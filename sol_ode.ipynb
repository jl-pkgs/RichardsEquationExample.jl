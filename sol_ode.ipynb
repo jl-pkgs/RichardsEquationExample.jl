{
 "cells": [
  {
   "cell_type": "code",
   "execution_count": 45,
   "id": "284c6ebf-afc6-4320-bb03-8283c9287b8f",
   "metadata": {},
   "outputs": [
    {
     "data": {
      "text/plain": [
       "(dz = 0.1, D = D, K = K)"
      ]
     },
     "execution_count": 45,
     "metadata": {},
     "output_type": "execute_result"
    }
   ],
   "source": [
    "using DifferentialEquations\n",
    "using HydroTools\n",
    "using Plots\n",
    "\n",
    "# Example functions for D(θ) and K(θ)\n",
    "D(θ) = 1.0 + θ^2  # Example non-linear diffusion coefficient\n",
    "K(θ) = 0.1 * θ    # Example linear advection coefficient\n",
    "\n",
    "# Initial conditions and parameters\n",
    "u0 = fill(0.1, 100) |> collect # Example initial soil moisture profile\n",
    "tspan = (0.0, 10.0)  # Time span for the simulation\n",
    "# params = (dz = 0.1, D = D, K = K)  # Parameters including spatial discretization and functions"
   ]
  },
  {
   "cell_type": "code",
   "execution_count": 49,
   "id": "9919bae5-18e8-40f9-893d-963489d81a95",
   "metadata": {},
   "outputs": [
    {
     "data": {
      "text/plain": [
       "20.921265200082487"
      ]
     },
     "execution_count": 49,
     "metadata": {},
     "output_type": "execute_result"
    }
   ],
   "source": [
    "# Function to calculate hydraulic conductivity from water content\n",
    "function van_genuchten_K(θ; param)\n",
    "    (; θs, θr, Ks, α, n, m) = param\n",
    "    # m = 1 - 1/n\n",
    "    Se = (θ - θr) / (θs - θr)\n",
    "    effective_saturation = Se^0.5\n",
    "    term = (1 - (1 - Se^(1/m))^m)^2\n",
    "    return Ks * effective_saturation * term\n",
    "end\n",
    "\n",
    "# Function to calculate pressure head psi from water content\n",
    "function van_genuchten_ψ(θ; param)\n",
    "    (; θs, θr, α, n, m) = param\n",
    "    # m = 1 - 1/n\n",
    "    if θ <= θr\n",
    "        return Inf  # Return a very high positive number indicating very dry conditions\n",
    "    elseif θ >= θs\n",
    "        return 0  # Saturated condition, psi is zero\n",
    "    else\n",
    "        return (1 / α) * (((θs - θr) / (θ - θr))^(1/m) - 1)^(1/n)\n",
    "    end\n",
    "end\n",
    "\n",
    "# van Genuchten parameters\n",
    "θs = 0.287  # Saturated water content\n",
    "θr = 0.075  # Residual water content\n",
    "α = 0.027  # 1/cm\n",
    "n = 3.96\n",
    "m = 1\n",
    "Ks=34 / 3600\n",
    "param = (; θs, θr, Ks, α, n, m)\n",
    "\n",
    "θ0 = 0.267\n",
    "ψ0 = van_genuchten_ψ(θ0; param)"
   ]
  },
  {
   "cell_type": "code",
   "execution_count": 58,
   "id": "8c17f17a-4d52-40ee-9502-4c047ba7e5c5",
   "metadata": {},
   "outputs": [
    {
     "data": {
      "text/plain": [
       "(dz = [1.0, 1.0, 1.0, 1.0, 1.0, 1.0, 1.0, 1.0, 1.0, 1.0  …  1.0, 1.0, 1.0, 1.0, 1.0, 1.0, 1.0, 1.0, 1.0, 1.0], z = [-0.5, -1.5, -2.5, -3.5, -4.5, -5.5, -6.5, -7.5, -8.5, -9.5  …  -140.5, -141.5, -142.5, -143.5, -144.5, -145.5, -146.5, -147.5, -148.5, -149.5], dt = 5, K = [0.0, 0.0, 0.0, 0.0, 0.0, 0.0, 0.0, 0.0, 0.0, 0.0  …  0.0, 0.0, 0.0, 0.0, 0.0, 0.0, 0.0, 0.0, 0.0, 0.0], ψ = [0.0, 0.0, 0.0, 0.0, 0.0, 0.0, 0.0, 0.0, 0.0, 0.0  …  0.0, 0.0, 0.0, 0.0, 0.0, 0.0, 0.0, 0.0, 0.0, 0.0], θ0 = 0.267, ψ0 = 20.921265200082487, param = (θs = 0.287, θr = 0.075, Ks = 0.009444444444444445, α = 0.027, n = 3.96, m = 1))"
      ]
     },
     "execution_count": 58,
     "metadata": {},
     "output_type": "execute_result"
    }
   ],
   "source": [
    "n = 150\n",
    "dz = ones(n)\n",
    "z, z₊ₕ, dz₊ₕ = soil_depth_init(dz)\n",
    "\n",
    "dt = 5\n",
    "ntim = 0.8 * 3600 / dt\n",
    "p = (; dz, z, dt, K = zeros(n), ψ = zeros(n), θ0, ψ0, param)"
   ]
  },
  {
   "cell_type": "code",
   "execution_count": 52,
   "id": "a864ccbb-fefa-4e79-8ed4-bea102c88f47",
   "metadata": {},
   "outputs": [
    {
     "data": {
      "text/plain": [
       "100-element Vector{Float64}:\n",
       " 61.562813229655255\n",
       " 61.562813229655255\n",
       " 61.562813229655255\n",
       " 61.562813229655255\n",
       " 61.562813229655255\n",
       " 61.562813229655255\n",
       " 61.562813229655255\n",
       " 61.562813229655255\n",
       " 61.562813229655255\n",
       " 61.562813229655255\n",
       " 61.562813229655255\n",
       " 61.562813229655255\n",
       " 61.562813229655255\n",
       "  ⋮\n",
       " 61.562813229655255\n",
       " 61.562813229655255\n",
       " 61.562813229655255\n",
       " 61.562813229655255\n",
       " 61.562813229655255\n",
       " 61.562813229655255\n",
       " 61.562813229655255\n",
       " 61.562813229655255\n",
       " 61.562813229655255\n",
       " 61.562813229655255\n",
       " 61.562813229655255\n",
       " 61.562813229655255"
      ]
     },
     "execution_count": 52,
     "metadata": {},
     "output_type": "execute_result"
    }
   ],
   "source": [
    "# z₊ₕ\n",
    "# param\n",
    "# van_genuchten_K.(u0; param)\n",
    "van_genuchten_ψ.(u0; param)\n",
    "    "
   ]
  },
  {
   "cell_type": "code",
   "execution_count": 59,
   "id": "a0d2b2cb-cae0-4eb0-8bc5-2ecdd1cbb75b",
   "metadata": {},
   "outputs": [
    {
     "data": {
      "text/plain": [
       "soil_moisture_transport (generic function with 1 method)"
      ]
     },
     "execution_count": 59,
     "metadata": {},
     "output_type": "execute_result"
    }
   ],
   "source": [
    "# Define the function representing the system of ODEs for soil moisture transport\n",
    "function cal_Q(i, K, ψ, z)\n",
    "    K₊ₕ_up = (K[i] + K[i-1]) / 2\n",
    "    z₊ₕ_up = (z[i] + z[i-1]) / 2\n",
    "    Q = -K₊ₕ_up * ( (ψ[i-1] - ψ[i]) / z₊ₕ_up + 1)\n",
    "    Q, z₊ₕ_up\n",
    "end\n",
    "\n",
    "function soil_moisture_transport(du, u, p, t)\n",
    "    n = length(u)\n",
    "    (; dz, dt, z, K, ψ, θ0, ψ0, param) = p\n",
    "    \n",
    "    K .= van_genuchten_K.(u; param)\n",
    "    ψ .= van_genuchten_ψ.(u; param)\n",
    "    \n",
    "    # Compute fluxes and update soil moisture\n",
    "    # @inbounds \n",
    "    for i in 2:n-1\n",
    "        Q_up, z₊ₕ_up     = cal_Q(i, K, ψ, z)\n",
    "        Q_down, z₊ₕ_down = cal_Q(i+1, K, ψ, z)\n",
    "        Δz = z₊ₕ_up - z₊ₕ_down\n",
    "        du[i] = -(Q_up - Q_down) / Δz\n",
    "    end\n",
    "    \n",
    "    ## boundary\n",
    "    i = 1\n",
    "    K₊ₕ_up = K[1]\n",
    "    Q_up, z₊ₕ_up = -K₊ₕ_up * ( (ψ0 - ψ[i]) / z₊ₕ_up + 1), 0\n",
    "    Q_down, z₊ₕ_down = cal_Q(i+1, K, ψ, z)\n",
    "    \n",
    "    Δz = z₊ₕ_up - z₊ₕ_down\n",
    "    du[i] = -(Q_up - Q_down) / Δz\n",
    "    \n",
    "    i = n\n",
    "    Q_up, z₊ₕ_up = cal_Q(i, K, ψ, z)\n",
    "    Q_down = -K[i]\n",
    "    Δz = (z[i-1] - z[i])/2\n",
    "    du[i] = -(Q_up - Q_down) / Δz\n",
    "end\n",
    "\n",
    "# K₊ₕ_up = (K[i] + K[i-1]) / 2\n",
    "# z₊ₕ_up = (z[i] + z[i-1]) / 2\n",
    "# z₊ₕ_down = (z[i+1] + z[i]) / 2\n",
    "# Q_up = -K₊ₕ_up * ( (ψ[i-1] - ψ[i]) / z₊ₕ_up + 1)\n",
    "# K₊ₕ_down = (K[i+1] + K[i]) / 2\n",
    "# Q_down = -K₊ₕ_down * ( (ψ[i] - ψ[i+1]) / z₊ₕ_down + 1)\n",
    "# Δz = (z[i-1] - z[i+1])/2"
   ]
  },
  {
   "cell_type": "code",
   "execution_count": 30,
   "id": "e073c2bb-1309-4b23-b81d-a04077ec21fc",
   "metadata": {},
   "outputs": [
    {
     "data": {
      "text/plain": [
       "20.921265200082487"
      ]
     },
     "execution_count": 30,
     "metadata": {},
     "output_type": "execute_result"
    }
   ],
   "source": []
  },
  {
   "cell_type": "code",
   "execution_count": 3,
   "id": "48d9d318-ace3-42fb-abc2-450cbf09465f",
   "metadata": {},
   "outputs": [
    {
     "data": {
      "text/plain": [
       "richards_ode (generic function with 1 method)"
      ]
     },
     "execution_count": 3,
     "metadata": {},
     "output_type": "execute_result"
    }
   ],
   "source": [
    "# Define the function representing the system of ODEs\n",
    "function richards_ode(du, u, p, t)\n",
    "    n = length(u)\n",
    "    dz = p.dz  # Spatial step size\n",
    "    D, K = p.D, p.K  # Functions for diffusion and advection terms\n",
    "\n",
    "    # Interior points\n",
    "    @inbounds for i in 2:n-1\n",
    "        # Non-linear diffusion term\n",
    "        D_mid = (D(u[i+1]) + D(u[i])) / 2\n",
    "        D_back = (D(u[i]) + D(u[i-1])) / 2\n",
    "        diffusion = (D_mid * (u[i+1] - u[i]) - D_back * (u[i] - u[i-1])) / dz^2\n",
    "        \n",
    "        # Advection term\n",
    "        K_mid = (K(u[i+1]) + K(u[i])) / 2\n",
    "        K_back = (K(u[i]) + K(u[i-1])) / 2\n",
    "        advection = (K_mid - K_back) / dz\n",
    "\n",
    "        # Update rule for the ith point\n",
    "        du[i] = diffusion + advection\n",
    "    end\n",
    "    \n",
    "    # Boundary conditions can be more specific depending on the physical situation\n",
    "    du[1] = du[2]  # Example: Neumann boundary condition at the top\n",
    "    du[n] = du[n-1]  # Example: Neumann boundary condition at the bottom\n",
    "end"
   ]
  },
  {
   "cell_type": "code",
   "execution_count": 61,
   "id": "a9d86d52-918f-413b-bf4b-602d81d1bc24",
   "metadata": {},
   "outputs": [],
   "source": [
    "# p.z"
   ]
  },
  {
   "cell_type": "code",
   "execution_count": 62,
   "id": "3fbe6427-0094-4d94-925c-91d892c144a9",
   "metadata": {},
   "outputs": [
    {
     "ename": "LoadError",
     "evalue": "DimensionMismatch: array could not be broadcast to match destination",
     "output_type": "error",
     "traceback": [
      "DimensionMismatch: array could not be broadcast to match destination",
      "",
      "Stacktrace:",
      "  [1] check_broadcast_shape",
      "    @ .\\broadcast.jl:579 [inlined]",
      "  [2] check_broadcast_axes",
      "    @ .\\broadcast.jl:582 [inlined]",
      "  [3] instantiate",
      "    @ .\\broadcast.jl:309 [inlined]",
      "  [4] materialize!",
      "    @ .\\broadcast.jl:914 [inlined]",
      "  [5] materialize!",
      "    @ .\\broadcast.jl:911 [inlined]",
      "  [6] soil_moisture_transport(du::Vector{Float64}, u::Vector{Float64}, p::@NamedTuple{dz::Vector{Float64}, z::Vector{Float64}, dt::Int64, K::Vector{Float64}, ψ::Vector{Float64}, θ0::Float64, ψ0::Float64, param::@NamedTuple{θs::Float64, θr::Float64, Ks::Float64, α::Float64, n::Float64, m::Int64}}, t::Float64)",
      "    @ Main .\\In[59]:13",
      "  [7] Void",
      "    @ C:\\Users\\kongdd\\.julia\\packages\\SciMLBase\\HReyK\\src\\utils.jl:482 [inlined]",
      "  [8] (::FunctionWrappers.CallWrapper{Nothing})(f::SciMLBase.Void{typeof(soil_moisture_transport)}, arg1::Vector{Float64}, arg2::Vector{Float64}, arg3::@NamedTuple{dz::Vector{Float64}, z::Vector{Float64}, dt::Int64, K::Vector{Float64}, ψ::Vector{Float64}, θ0::Float64, ψ0::Float64, param::@NamedTuple{θs::Float64, θr::Float64, Ks::Float64, α::Float64, n::Float64, m::Int64}}, arg4::Float64)",
      "    @ FunctionWrappers C:\\Users\\kongdd\\.julia\\packages\\FunctionWrappers\\Q5cBx\\src\\FunctionWrappers.jl:65",
      "  [9] macro expansion",
      "    @ C:\\Users\\kongdd\\.julia\\packages\\FunctionWrappers\\Q5cBx\\src\\FunctionWrappers.jl:137 [inlined]",
      " [10] do_ccall",
      "    @ C:\\Users\\kongdd\\.julia\\packages\\FunctionWrappers\\Q5cBx\\src\\FunctionWrappers.jl:125 [inlined]",
      " [11] FunctionWrapper",
      "    @ C:\\Users\\kongdd\\.julia\\packages\\FunctionWrappers\\Q5cBx\\src\\FunctionWrappers.jl:144 [inlined]",
      " [12] _call",
      "    @ C:\\Users\\kongdd\\.julia\\packages\\FunctionWrappersWrappers\\9XR0m\\src\\FunctionWrappersWrappers.jl:12 [inlined]",
      " [13] FunctionWrappersWrapper",
      "    @ C:\\Users\\kongdd\\.julia\\packages\\FunctionWrappersWrappers\\9XR0m\\src\\FunctionWrappersWrappers.jl:10 [inlined]",
      " [14] ODEFunction",
      "    @ C:\\Users\\kongdd\\.julia\\packages\\SciMLBase\\HReyK\\src\\scimlfunctions.jl:2335 [inlined]",
      " [15] initialize!(integrator::OrdinaryDiffEq.ODEIntegrator{Tsit5{typeof(OrdinaryDiffEq.trivial_limiter!), typeof(OrdinaryDiffEq.trivial_limiter!), Static.False}, true, Vector{Float64}, Nothing, Float64, @NamedTuple{dz::Vector{Float64}, z::Vector{Float64}, dt::Int64, K::Vector{Float64}, ψ::Vector{Float64}, θ0::Float64, ψ0::Float64, param::@NamedTuple{θs::Float64, θr::Float64, Ks::Float64, α::Float64, n::Float64, m::Int64}}, Float64, Float64, Float64, Float64, Vector{Vector{Float64}}, ODESolution{Float64, 2, Vector{Vector{Float64}}, Nothing, Nothing, Vector{Float64}, Vector{Vector{Vector{Float64}}}, Nothing, ODEProblem{Vector{Float64}, Tuple{Float64, Float64}, true, @NamedTuple{dz::Vector{Float64}, z::Vector{Float64}, dt::Int64, K::Vector{Float64}, ψ::Vector{Float64}, θ0::Float64, ψ0::Float64, param::@NamedTuple{θs::Float64, θr::Float64, Ks::Float64, α::Float64, n::Float64, m::Int64}}, ODEFunction{true, SciMLBase.AutoSpecialize, FunctionWrappersWrappers.FunctionWrappersWrapper{Tuple{FunctionWrappers.FunctionWrapper{Nothing, Tuple{Vector{Float64}, Vector{Float64}, @NamedTuple{dz::Vector{Float64}, z::Vector{Float64}, dt::Int64, K::Vector{Float64}, ψ::Vector{Float64}, θ0::Float64, ψ0::Float64, param::@NamedTuple{θs::Float64, θr::Float64, Ks::Float64, α::Float64, n::Float64, m::Int64}}, Float64}}, FunctionWrappers.FunctionWrapper{Nothing, Tuple{Vector{ForwardDiff.Dual{ForwardDiff.Tag{DiffEqBase.OrdinaryDiffEqTag, Float64}, Float64, 1}}, Vector{ForwardDiff.Dual{ForwardDiff.Tag{DiffEqBase.OrdinaryDiffEqTag, Float64}, Float64, 1}}, @NamedTuple{dz::Vector{Float64}, z::Vector{Float64}, dt::Int64, K::Vector{Float64}, ψ::Vector{Float64}, θ0::Float64, ψ0::Float64, param::@NamedTuple{θs::Float64, θr::Float64, Ks::Float64, α::Float64, n::Float64, m::Int64}}, Float64}}, FunctionWrappers.FunctionWrapper{Nothing, Tuple{Vector{ForwardDiff.Dual{ForwardDiff.Tag{DiffEqBase.OrdinaryDiffEqTag, Float64}, Float64, 1}}, Vector{Float64}, @NamedTuple{dz::Vector{Float64}, z::Vector{Float64}, dt::Int64, K::Vector{Float64}, ψ::Vector{Float64}, θ0::Float64, ψ0::Float64, param::@NamedTuple{θs::Float64, θr::Float64, Ks::Float64, α::Float64, n::Float64, m::Int64}}, ForwardDiff.Dual{ForwardDiff.Tag{DiffEqBase.OrdinaryDiffEqTag, Float64}, Float64, 1}}}, FunctionWrappers.FunctionWrapper{Nothing, Tuple{Vector{ForwardDiff.Dual{ForwardDiff.Tag{DiffEqBase.OrdinaryDiffEqTag, Float64}, Float64, 1}}, Vector{ForwardDiff.Dual{ForwardDiff.Tag{DiffEqBase.OrdinaryDiffEqTag, Float64}, Float64, 1}}, @NamedTuple{dz::Vector{Float64}, z::Vector{Float64}, dt::Int64, K::Vector{Float64}, ψ::Vector{Float64}, θ0::Float64, ψ0::Float64, param::@NamedTuple{θs::Float64, θr::Float64, Ks::Float64, α::Float64, n::Float64, m::Int64}}, ForwardDiff.Dual{ForwardDiff.Tag{DiffEqBase.OrdinaryDiffEqTag, Float64}, Float64, 1}}}}, false}, LinearAlgebra.UniformScaling{Bool}, Nothing, Nothing, Nothing, Nothing, Nothing, Nothing, Nothing, Nothing, Nothing, Nothing, Nothing, typeof(SciMLBase.DEFAULT_OBSERVED), Nothing, Nothing, Nothing, Nothing}, @Kwargs{}, SciMLBase.StandardODEProblem}, Tsit5{typeof(OrdinaryDiffEq.trivial_limiter!), typeof(OrdinaryDiffEq.trivial_limiter!), Static.False}, OrdinaryDiffEq.InterpolationData{ODEFunction{true, SciMLBase.AutoSpecialize, FunctionWrappersWrappers.FunctionWrappersWrapper{Tuple{FunctionWrappers.FunctionWrapper{Nothing, Tuple{Vector{Float64}, Vector{Float64}, @NamedTuple{dz::Vector{Float64}, z::Vector{Float64}, dt::Int64, K::Vector{Float64}, ψ::Vector{Float64}, θ0::Float64, ψ0::Float64, param::@NamedTuple{θs::Float64, θr::Float64, Ks::Float64, α::Float64, n::Float64, m::Int64}}, Float64}}, FunctionWrappers.FunctionWrapper{Nothing, Tuple{Vector{ForwardDiff.Dual{ForwardDiff.Tag{DiffEqBase.OrdinaryDiffEqTag, Float64}, Float64, 1}}, Vector{ForwardDiff.Dual{ForwardDiff.Tag{DiffEqBase.OrdinaryDiffEqTag, Float64}, Float64, 1}}, @NamedTuple{dz::Vector{Float64}, z::Vector{Float64}, dt::Int64, K::Vector{Float64}, ψ::Vector{Float64}, θ0::Float64, ψ0::Float64, param::@NamedTuple{θs::Float64, θr::Float64, Ks::Float64, α::Float64, n::Float64, m::Int64}}, Float64}}, FunctionWrappers.FunctionWrapper{Nothing, Tuple{Vector{ForwardDiff.Dual{ForwardDiff.Tag{DiffEqBase.OrdinaryDiffEqTag, Float64}, Float64, 1}}, Vector{Float64}, @NamedTuple{dz::Vector{Float64}, z::Vector{Float64}, dt::Int64, K::Vector{Float64}, ψ::Vector{Float64}, θ0::Float64, ψ0::Float64, param::@NamedTuple{θs::Float64, θr::Float64, Ks::Float64, α::Float64, n::Float64, m::Int64}}, ForwardDiff.Dual{ForwardDiff.Tag{DiffEqBase.OrdinaryDiffEqTag, Float64}, Float64, 1}}}, FunctionWrappers.FunctionWrapper{Nothing, Tuple{Vector{ForwardDiff.Dual{ForwardDiff.Tag{DiffEqBase.OrdinaryDiffEqTag, Float64}, Float64, 1}}, Vector{ForwardDiff.Dual{ForwardDiff.Tag{DiffEqBase.OrdinaryDiffEqTag, Float64}, Float64, 1}}, @NamedTuple{dz::Vector{Float64}, z::Vector{Float64}, dt::Int64, K::Vector{Float64}, ψ::Vector{Float64}, θ0::Float64, ψ0::Float64, param::@NamedTuple{θs::Float64, θr::Float64, Ks::Float64, α::Float64, n::Float64, m::Int64}}, ForwardDiff.Dual{ForwardDiff.Tag{DiffEqBase.OrdinaryDiffEqTag, Float64}, Float64, 1}}}}, false}, LinearAlgebra.UniformScaling{Bool}, Nothing, Nothing, Nothing, Nothing, Nothing, Nothing, Nothing, Nothing, Nothing, Nothing, Nothing, typeof(SciMLBase.DEFAULT_OBSERVED), Nothing, Nothing, Nothing, Nothing}, Vector{Vector{Float64}}, Vector{Float64}, Vector{Vector{Vector{Float64}}}, Nothing, OrdinaryDiffEq.Tsit5Cache{Vector{Float64}, Vector{Float64}, Vector{Float64}, typeof(OrdinaryDiffEq.trivial_limiter!), typeof(OrdinaryDiffEq.trivial_limiter!), Static.False}, Nothing}, SciMLBase.DEStats, Nothing, Nothing, Nothing}, ODEFunction{true, SciMLBase.AutoSpecialize, FunctionWrappersWrappers.FunctionWrappersWrapper{Tuple{FunctionWrappers.FunctionWrapper{Nothing, Tuple{Vector{Float64}, Vector{Float64}, @NamedTuple{dz::Vector{Float64}, z::Vector{Float64}, dt::Int64, K::Vector{Float64}, ψ::Vector{Float64}, θ0::Float64, ψ0::Float64, param::@NamedTuple{θs::Float64, θr::Float64, Ks::Float64, α::Float64, n::Float64, m::Int64}}, Float64}}, FunctionWrappers.FunctionWrapper{Nothing, Tuple{Vector{ForwardDiff.Dual{ForwardDiff.Tag{DiffEqBase.OrdinaryDiffEqTag, Float64}, Float64, 1}}, Vector{ForwardDiff.Dual{ForwardDiff.Tag{DiffEqBase.OrdinaryDiffEqTag, Float64}, Float64, 1}}, @NamedTuple{dz::Vector{Float64}, z::Vector{Float64}, dt::Int64, K::Vector{Float64}, ψ::Vector{Float64}, θ0::Float64, ψ0::Float64, param::@NamedTuple{θs::Float64, θr::Float64, Ks::Float64, α::Float64, n::Float64, m::Int64}}, Float64}}, FunctionWrappers.FunctionWrapper{Nothing, Tuple{Vector{ForwardDiff.Dual{ForwardDiff.Tag{DiffEqBase.OrdinaryDiffEqTag, Float64}, Float64, 1}}, Vector{Float64}, @NamedTuple{dz::Vector{Float64}, z::Vector{Float64}, dt::Int64, K::Vector{Float64}, ψ::Vector{Float64}, θ0::Float64, ψ0::Float64, param::@NamedTuple{θs::Float64, θr::Float64, Ks::Float64, α::Float64, n::Float64, m::Int64}}, ForwardDiff.Dual{ForwardDiff.Tag{DiffEqBase.OrdinaryDiffEqTag, Float64}, Float64, 1}}}, FunctionWrappers.FunctionWrapper{Nothing, Tuple{Vector{ForwardDiff.Dual{ForwardDiff.Tag{DiffEqBase.OrdinaryDiffEqTag, Float64}, Float64, 1}}, Vector{ForwardDiff.Dual{ForwardDiff.Tag{DiffEqBase.OrdinaryDiffEqTag, Float64}, Float64, 1}}, @NamedTuple{dz::Vector{Float64}, z::Vector{Float64}, dt::Int64, K::Vector{Float64}, ψ::Vector{Float64}, θ0::Float64, ψ0::Float64, param::@NamedTuple{θs::Float64, θr::Float64, Ks::Float64, α::Float64, n::Float64, m::Int64}}, ForwardDiff.Dual{ForwardDiff.Tag{DiffEqBase.OrdinaryDiffEqTag, Float64}, Float64, 1}}}}, false}, LinearAlgebra.UniformScaling{Bool}, Nothing, Nothing, Nothing, Nothing, Nothing, Nothing, Nothing, Nothing, Nothing, Nothing, Nothing, typeof(SciMLBase.DEFAULT_OBSERVED), Nothing, Nothing, Nothing, Nothing}, OrdinaryDiffEq.Tsit5Cache{Vector{Float64}, Vector{Float64}, Vector{Float64}, typeof(OrdinaryDiffEq.trivial_limiter!), typeof(OrdinaryDiffEq.trivial_limiter!), Static.False}, OrdinaryDiffEq.DEOptions{Float64, Float64, Float64, Float64, PIController{Rational{Int64}}, typeof(DiffEqBase.ODE_DEFAULT_NORM), typeof(LinearAlgebra.opnorm), Nothing, CallbackSet{Tuple{}, Tuple{}}, typeof(DiffEqBase.ODE_DEFAULT_ISOUTOFDOMAIN), typeof(DiffEqBase.ODE_DEFAULT_PROG_MESSAGE), typeof(DiffEqBase.ODE_DEFAULT_UNSTABLE_CHECK), DataStructures.BinaryHeap{Float64, DataStructures.FasterForward}, DataStructures.BinaryHeap{Float64, DataStructures.FasterForward}, Nothing, Nothing, Int64, Tuple{}, Int64, Tuple{}}, Vector{Float64}, Float64, Nothing, OrdinaryDiffEq.DefaultInit, Nothing}, cache::OrdinaryDiffEq.Tsit5Cache{Vector{Float64}, Vector{Float64}, Vector{Float64}, typeof(OrdinaryDiffEq.trivial_limiter!), typeof(OrdinaryDiffEq.trivial_limiter!), Static.False})",
      "    @ OrdinaryDiffEq C:\\Users\\kongdd\\.julia\\packages\\OrdinaryDiffEq\\s27pa\\src\\perform_step\\low_order_rk_perform_step.jl:799",
      " [16] __init(prob::ODEProblem{Vector{Float64}, Tuple{Float64, Float64}, true, @NamedTuple{dz::Vector{Float64}, z::Vector{Float64}, dt::Int64, K::Vector{Float64}, ψ::Vector{Float64}, θ0::Float64, ψ0::Float64, param::@NamedTuple{θs::Float64, θr::Float64, Ks::Float64, α::Float64, n::Float64, m::Int64}}, ODEFunction{true, SciMLBase.AutoSpecialize, FunctionWrappersWrappers.FunctionWrappersWrapper{Tuple{FunctionWrappers.FunctionWrapper{Nothing, Tuple{Vector{Float64}, Vector{Float64}, @NamedTuple{dz::Vector{Float64}, z::Vector{Float64}, dt::Int64, K::Vector{Float64}, ψ::Vector{Float64}, θ0::Float64, ψ0::Float64, param::@NamedTuple{θs::Float64, θr::Float64, Ks::Float64, α::Float64, n::Float64, m::Int64}}, Float64}}, FunctionWrappers.FunctionWrapper{Nothing, Tuple{Vector{ForwardDiff.Dual{ForwardDiff.Tag{DiffEqBase.OrdinaryDiffEqTag, Float64}, Float64, 1}}, Vector{ForwardDiff.Dual{ForwardDiff.Tag{DiffEqBase.OrdinaryDiffEqTag, Float64}, Float64, 1}}, @NamedTuple{dz::Vector{Float64}, z::Vector{Float64}, dt::Int64, K::Vector{Float64}, ψ::Vector{Float64}, θ0::Float64, ψ0::Float64, param::@NamedTuple{θs::Float64, θr::Float64, Ks::Float64, α::Float64, n::Float64, m::Int64}}, Float64}}, FunctionWrappers.FunctionWrapper{Nothing, Tuple{Vector{ForwardDiff.Dual{ForwardDiff.Tag{DiffEqBase.OrdinaryDiffEqTag, Float64}, Float64, 1}}, Vector{Float64}, @NamedTuple{dz::Vector{Float64}, z::Vector{Float64}, dt::Int64, K::Vector{Float64}, ψ::Vector{Float64}, θ0::Float64, ψ0::Float64, param::@NamedTuple{θs::Float64, θr::Float64, Ks::Float64, α::Float64, n::Float64, m::Int64}}, ForwardDiff.Dual{ForwardDiff.Tag{DiffEqBase.OrdinaryDiffEqTag, Float64}, Float64, 1}}}, FunctionWrappers.FunctionWrapper{Nothing, Tuple{Vector{ForwardDiff.Dual{ForwardDiff.Tag{DiffEqBase.OrdinaryDiffEqTag, Float64}, Float64, 1}}, Vector{ForwardDiff.Dual{ForwardDiff.Tag{DiffEqBase.OrdinaryDiffEqTag, Float64}, Float64, 1}}, @NamedTuple{dz::Vector{Float64}, z::Vector{Float64}, dt::Int64, K::Vector{Float64}, ψ::Vector{Float64}, θ0::Float64, ψ0::Float64, param::@NamedTuple{θs::Float64, θr::Float64, Ks::Float64, α::Float64, n::Float64, m::Int64}}, ForwardDiff.Dual{ForwardDiff.Tag{DiffEqBase.OrdinaryDiffEqTag, Float64}, Float64, 1}}}}, false}, LinearAlgebra.UniformScaling{Bool}, Nothing, Nothing, Nothing, Nothing, Nothing, Nothing, Nothing, Nothing, Nothing, Nothing, Nothing, typeof(SciMLBase.DEFAULT_OBSERVED), Nothing, Nothing, Nothing, Nothing}, @Kwargs{}, SciMLBase.StandardODEProblem}, alg::Tsit5{typeof(OrdinaryDiffEq.trivial_limiter!), typeof(OrdinaryDiffEq.trivial_limiter!), Static.False}, timeseries_init::Tuple{}, ts_init::Tuple{}, ks_init::Tuple{}, recompile::Type{Val{true}}; saveat::Int64, tstops::Tuple{}, d_discontinuities::Tuple{}, save_idxs::Nothing, save_everystep::Bool, save_on::Bool, save_start::Bool, save_end::Nothing, callback::Nothing, dense::Bool, calck::Bool, dt::Float64, dtmin::Float64, dtmax::Float64, force_dtmin::Bool, adaptive::Bool, gamma::Rational{Int64}, abstol::Float64, reltol::Float64, qmin::Rational{Int64}, qmax::Int64, qsteady_min::Int64, qsteady_max::Int64, beta1::Nothing, beta2::Nothing, qoldinit::Rational{Int64}, controller::Nothing, fullnormalize::Bool, failfactor::Int64, maxiters::Int64, internalnorm::typeof(DiffEqBase.ODE_DEFAULT_NORM), internalopnorm::typeof(LinearAlgebra.opnorm), isoutofdomain::typeof(DiffEqBase.ODE_DEFAULT_ISOUTOFDOMAIN), unstable_check::typeof(DiffEqBase.ODE_DEFAULT_UNSTABLE_CHECK), verbose::Bool, timeseries_errors::Bool, dense_errors::Bool, advance_to_tstop::Bool, stop_at_next_tstop::Bool, initialize_save::Bool, progress::Bool, progress_steps::Int64, progress_name::String, progress_message::typeof(DiffEqBase.ODE_DEFAULT_PROG_MESSAGE), progress_id::Symbol, userdata::Nothing, allow_extrapolation::Bool, initialize_integrator::Bool, alias_u0::Bool, alias_du0::Bool, initializealg::OrdinaryDiffEq.DefaultInit, kwargs::@Kwargs{})",
      "    @ OrdinaryDiffEq C:\\Users\\kongdd\\.julia\\packages\\OrdinaryDiffEq\\s27pa\\src\\solve.jl:524",
      " [17] __init (repeats 5 times)",
      "    @ C:\\Users\\kongdd\\.julia\\packages\\OrdinaryDiffEq\\s27pa\\src\\solve.jl:11 [inlined]",
      " [18] #__solve#433",
      "    @ C:\\Users\\kongdd\\.julia\\packages\\OrdinaryDiffEq\\s27pa\\src\\solve.jl:6 [inlined]",
      " [19] __solve",
      "    @ C:\\Users\\kongdd\\.julia\\packages\\OrdinaryDiffEq\\s27pa\\src\\solve.jl:1 [inlined]",
      " [20] solve_call(_prob::ODEProblem{Vector{Float64}, Tuple{Float64, Float64}, true, @NamedTuple{dz::Vector{Float64}, z::Vector{Float64}, dt::Int64, K::Vector{Float64}, ψ::Vector{Float64}, θ0::Float64, ψ0::Float64, param::@NamedTuple{θs::Float64, θr::Float64, Ks::Float64, α::Float64, n::Float64, m::Int64}}, ODEFunction{true, SciMLBase.AutoSpecialize, FunctionWrappersWrappers.FunctionWrappersWrapper{Tuple{FunctionWrappers.FunctionWrapper{Nothing, Tuple{Vector{Float64}, Vector{Float64}, @NamedTuple{dz::Vector{Float64}, z::Vector{Float64}, dt::Int64, K::Vector{Float64}, ψ::Vector{Float64}, θ0::Float64, ψ0::Float64, param::@NamedTuple{θs::Float64, θr::Float64, Ks::Float64, α::Float64, n::Float64, m::Int64}}, Float64}}, FunctionWrappers.FunctionWrapper{Nothing, Tuple{Vector{ForwardDiff.Dual{ForwardDiff.Tag{DiffEqBase.OrdinaryDiffEqTag, Float64}, Float64, 1}}, Vector{ForwardDiff.Dual{ForwardDiff.Tag{DiffEqBase.OrdinaryDiffEqTag, Float64}, Float64, 1}}, @NamedTuple{dz::Vector{Float64}, z::Vector{Float64}, dt::Int64, K::Vector{Float64}, ψ::Vector{Float64}, θ0::Float64, ψ0::Float64, param::@NamedTuple{θs::Float64, θr::Float64, Ks::Float64, α::Float64, n::Float64, m::Int64}}, Float64}}, FunctionWrappers.FunctionWrapper{Nothing, Tuple{Vector{ForwardDiff.Dual{ForwardDiff.Tag{DiffEqBase.OrdinaryDiffEqTag, Float64}, Float64, 1}}, Vector{Float64}, @NamedTuple{dz::Vector{Float64}, z::Vector{Float64}, dt::Int64, K::Vector{Float64}, ψ::Vector{Float64}, θ0::Float64, ψ0::Float64, param::@NamedTuple{θs::Float64, θr::Float64, Ks::Float64, α::Float64, n::Float64, m::Int64}}, ForwardDiff.Dual{ForwardDiff.Tag{DiffEqBase.OrdinaryDiffEqTag, Float64}, Float64, 1}}}, FunctionWrappers.FunctionWrapper{Nothing, Tuple{Vector{ForwardDiff.Dual{ForwardDiff.Tag{DiffEqBase.OrdinaryDiffEqTag, Float64}, Float64, 1}}, Vector{ForwardDiff.Dual{ForwardDiff.Tag{DiffEqBase.OrdinaryDiffEqTag, Float64}, Float64, 1}}, @NamedTuple{dz::Vector{Float64}, z::Vector{Float64}, dt::Int64, K::Vector{Float64}, ψ::Vector{Float64}, θ0::Float64, ψ0::Float64, param::@NamedTuple{θs::Float64, θr::Float64, Ks::Float64, α::Float64, n::Float64, m::Int64}}, ForwardDiff.Dual{ForwardDiff.Tag{DiffEqBase.OrdinaryDiffEqTag, Float64}, Float64, 1}}}}, false}, LinearAlgebra.UniformScaling{Bool}, Nothing, Nothing, Nothing, Nothing, Nothing, Nothing, Nothing, Nothing, Nothing, Nothing, Nothing, typeof(SciMLBase.DEFAULT_OBSERVED), Nothing, Nothing, Nothing, Nothing}, @Kwargs{}, SciMLBase.StandardODEProblem}, args::Tsit5{typeof(OrdinaryDiffEq.trivial_limiter!), typeof(OrdinaryDiffEq.trivial_limiter!), Static.False}; merge_callbacks::Bool, kwargshandle::Nothing, kwargs::@Kwargs{reltol::Float64, abstol::Float64, saveat::Int64})",
      "    @ DiffEqBase C:\\Users\\kongdd\\.julia\\packages\\DiffEqBase\\c8MAQ\\src\\solve.jl:612",
      " [21] solve_call",
      "    @ C:\\Users\\kongdd\\.julia\\packages\\DiffEqBase\\c8MAQ\\src\\solve.jl:569 [inlined]",
      " [22] #solve_up#53",
      "    @ C:\\Users\\kongdd\\.julia\\packages\\DiffEqBase\\c8MAQ\\src\\solve.jl:1080 [inlined]",
      " [23] solve_up",
      "    @ C:\\Users\\kongdd\\.julia\\packages\\DiffEqBase\\c8MAQ\\src\\solve.jl:1066 [inlined]",
      " [24] #solve#51",
      "    @ C:\\Users\\kongdd\\.julia\\packages\\DiffEqBase\\c8MAQ\\src\\solve.jl:1003 [inlined]",
      " [25] macro expansion",
      "    @ .\\timing.jl:279 [inlined]",
      " [26] top-level scope",
      "    @ .\\In[62]:2"
     ]
    }
   ],
   "source": [
    "prob = ODEProblem(soil_moisture_transport, u0, tspan, p)\n",
    "@time sol = solve(prob, Tsit5(), reltol=1e-6, abstol=1e-6, saveat=1)  # Using an adaptive solver suitable for stiff problems\n",
    "\n",
    "# plot(sol)"
   ]
  },
  {
   "cell_type": "code",
   "execution_count": 12,
   "id": "755c2c53-6f99-47a3-8aa7-a04cb90f4312",
   "metadata": {},
   "outputs": [
    {
     "data": {
      "text/plain": [
       "100-element Vector{Float64}:\n",
       " 0.0\n",
       " 0.010101010101010102\n",
       " 0.020202020202020204\n",
       " 0.030303030303030304\n",
       " 0.04040404040404041\n",
       " 0.050505050505050504\n",
       " 0.06060606060606061\n",
       " 0.0707070707070707\n",
       " 0.08080808080808081\n",
       " 0.09090909090909091\n",
       " 0.10101010101010101\n",
       " 0.1111111111111111\n",
       " 0.12121212121212122\n",
       " ⋮\n",
       " 0.8888888888888888\n",
       " 0.898989898989899\n",
       " 0.9090909090909091\n",
       " 0.9191919191919192\n",
       " 0.9292929292929293\n",
       " 0.9393939393939394\n",
       " 0.9494949494949495\n",
       " 0.9595959595959596\n",
       " 0.9696969696969697\n",
       " 0.9797979797979798\n",
       " 0.98989898989899\n",
       " 1.0"
      ]
     },
     "execution_count": 12,
     "metadata": {},
     "output_type": "execute_result"
    }
   ],
   "source": [
    "sol.u[1]"
   ]
  }
 ],
 "metadata": {
  "kernelspec": {
   "display_name": "Julia 1.10.4",
   "language": "julia",
   "name": "julia-1.10"
  },
  "language_info": {
   "file_extension": ".jl",
   "mimetype": "application/julia",
   "name": "julia",
   "version": "1.10.4"
  }
 },
 "nbformat": 4,
 "nbformat_minor": 5
}
